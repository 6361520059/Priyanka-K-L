{
  "nbformat": 4,
  "nbformat_minor": 0,
  "metadata": {
    "colab": {
      "provenance": [],
      "include_colab_link": true
    },
    "kernelspec": {
      "name": "python3",
      "display_name": "Python 3"
    },
    "language_info": {
      "name": "python"
    }
  },
  "cells": [
    {
      "cell_type": "markdown",
      "metadata": {
        "id": "view-in-github",
        "colab_type": "text"
      },
      "source": [
        "<a href=\"https://colab.research.google.com/github/6361520059/Priyanka-K-L/blob/main/diabetes_prediction.ipynb\" target=\"_parent\"><img src=\"https://colab.research.google.com/assets/colab-badge.svg\" alt=\"Open In Colab\"/></a>"
      ]
    },
    {
      "cell_type": "markdown",
      "source": [
        "# Diabetes prediction using Random forest algorithm"
      ],
      "metadata": {
        "id": "LudqyZoN-nhx"
      }
    },
    {
      "cell_type": "markdown",
      "source": [],
      "metadata": {
        "id": "7Vuo_iP3c6U6"
      }
    },
    {
      "cell_type": "markdown",
      "source": [
        "## Importing required libraries"
      ],
      "metadata": {
        "id": "5rByuMYG-vZR"
      }
    },
    {
      "cell_type": "code",
      "source": [],
      "metadata": {
        "id": "qyLR4mh9c4Rz"
      },
      "execution_count": null,
      "outputs": []
    },
    {
      "cell_type": "code",
      "execution_count": null,
      "metadata": {
        "id": "d7ybdWDd8SB7"
      },
      "outputs": [],
      "source": [
        "# Import the required libraries\n",
        "import pandas as pd\n",
        "from sklearn.preprocessing import LabelEncoder\n",
        "from sklearn.ensemble import RandomForestClassifier\n",
        "from sklearn.model_selection import train_test_split\n",
        "from sklearn.metrics import accuracy_score\n",
        "from sklearn.metrics import confusion_matrix"
      ]
    },
    {
      "cell_type": "markdown",
      "source": [
        "## Loading the dataset and analysing dataset"
      ],
      "metadata": {
        "id": "eJ2jTIKi-4ay"
      }
    },
    {
      "cell_type": "code",
      "source": [
        "data = pd.read_csv(\"diabetes_prediction_dataset.csv\")\n",
        "print(\"Columns Present: \")\n",
        "print(data.columns.tolist(),\"\\n\")\n",
        "\n",
        "print(\"Dataset Shape: \")\n",
        "print(data.shape,\"\\n\")\n",
        "\n",
        "print(\"Dataset head: \")\n",
        "print(data.head(5))\n"
      ],
      "metadata": {
        "id": "Kby4Jpgo-_cz"
      },
      "execution_count": null,
      "outputs": []
    },
    {
      "cell_type": "markdown",
      "source": [
        "## Data preprocessing"
      ],
      "metadata": {
        "id": "AdL_7fKBFhCP"
      }
    },
    {
      "cell_type": "code",
      "source": [
        "# Convert the 'gender' and 'smoking_history' column to numeric using LabelEncoder\n",
        "label_encoder = LabelEncoder()\n",
        "data[\"gender\"] = label_encoder.fit_transform(data[\"gender\"])\n",
        "data[\"smoking_history\"] = label_encoder.fit_transform(data[\"smoking_history\"])\n",
        "print(data.head())"
      ],
      "metadata": {
        "id": "xz-p1v-NFlxQ"
      },
      "execution_count": null,
      "outputs": []
    },
    {
      "cell_type": "markdown",
      "source": [
        "## Split the dataset into features (x) and target variable (y)"
      ],
      "metadata": {
        "id": "OKshUqIVBra6"
      }
    },
    {
      "cell_type": "code",
      "source": [
        "# features\n",
        "x = data.iloc[:, :-1]\n",
        "# target variable\n",
        "y = data.iloc[:, -1]"
      ],
      "metadata": {
        "id": "p4i1B1X1A38M"
      },
      "execution_count": null,
      "outputs": []
    },
    {
      "cell_type": "markdown",
      "source": [
        "## Split the data into training and testing sets"
      ],
      "metadata": {
        "id": "JY-08EGgDGwK"
      }
    },
    {
      "cell_type": "code",
      "source": [
        "x_train, x_test, y_train, y_test = train_test_split(x, y, test_size=0.2, random_state=0)"
      ],
      "metadata": {
        "id": "ztpihNUuDKJp"
      },
      "execution_count": null,
      "outputs": []
    },
    {
      "cell_type": "markdown",
      "source": [
        "## Create a Random Forest classifier and  Train the classifier"
      ],
      "metadata": {
        "id": "TiQQ3FtsDdwx"
      }
    },
    {
      "cell_type": "code",
      "source": [
        "rf_classifier = RandomForestClassifier(n_estimators=100, random_state=0)\n",
        "rf_classifier.fit(x_train, y_train)"
      ],
      "metadata": {
        "id": "y_vADkKWDkFG"
      },
      "execution_count": null,
      "outputs": []
    },
    {
      "cell_type": "markdown",
      "source": [
        "## Predicting and testing"
      ],
      "metadata": {
        "id": "6sHtvR6VEN5L"
      }
    },
    {
      "cell_type": "code",
      "source": [
        "# Make predictions on the test set\n",
        "y_pred = rf_classifier.predict(x_test)\n",
        "\n",
        "# Comparing the results\n",
        "comparision_df = pd.DataFrame({\"Actual\": y_test, \"predicted\": y_pred})\n",
        "print(comparision_df.head(10))"
      ],
      "metadata": {
        "id": "HyS4nsT-EMcM"
      },
      "execution_count": null,
      "outputs": []
    },
    {
      "cell_type": "markdown",
      "source": [
        "## Accuracy and confusion matrix"
      ],
      "metadata": {
        "id": "SQ6AOEkXGsyx"
      }
    },
    {
      "cell_type": "code",
      "source": [
        "# Evaluate the accuracy of the model\n",
        "accuracy = accuracy_score(y_test, y_pred)\n",
        "print(f\"Accuracy: {accuracy * 100}%\")\n",
        "\n",
        "cm = confusion_matrix(y_test, y_pred)\n",
        "\n",
        "import seaborn as sns\n",
        "\n",
        "# Display the confusion matrix\n",
        "print(\"Confusion Matrix:\")\n",
        "print(cm)\n",
        "sns.heatmap(cm, annot=True, fmt=\"d\")"
      ],
      "metadata": {
        "id": "u3Ta4BPzGxtr"
      },
      "execution_count": null,
      "outputs": []
    }
  ]
}